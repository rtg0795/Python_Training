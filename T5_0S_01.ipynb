{
 "cells": [
  {
   "cell_type": "code",
   "execution_count": null,
   "metadata": {
    "colab": {},
    "colab_type": "code",
    "id": "t7tLGHk_jtjg"
   },
   "outputs": [],
   "source": [
    "# well done..let's work on os module\n",
    "# ref: https://www.youtube.com/watch?v=tJxcKyFMTGo\n",
    "\n",
    "def to_string(lst):\n",
    "  return ''.join([str(x) for x in lst])\n",
    "\n",
    "y = [1,2,3.0, 3+4j, True, [1,23],(1,3,4), 'kmfd']\n",
    "to_string(y)  # be careful item can come as any datatype"
   ]
  },
  {
   "cell_type": "code",
   "execution_count": null,
   "metadata": {
    "colab": {},
    "colab_type": "code",
    "id": "WEx3FDbjlFXs"
   },
   "outputs": [],
   "source": [
    "#1\n",
    "# expected output: {'CLLI': 'GRVLMIBF', 'OSA_NFID': '1904AVGJ', 'CRAN_NAME': 'MC WEST 28TH STREET / 0598 [ON-NET MW] [EBH]', \n",
    "# 'MARKET_NFID': '1808AHXH', 'MARKET': 'GRAND RAPIDS, MI', 'CRAN_NFID': '1710AIJV'}\n",
    "#input:\n",
    "s= 'MARKET: GRAND RAPIDS, MI<br/>MARKET_NFID: 1808AHXH<br/>CRAN_NAME: MC WEST 28TH STREET / 0598 [ON-NET MW] [EBH]<br/>CRAN_NFID: 1710AIJV<br/>OSA_NFID: 1904AVGJ<br/>CLLI: GRVLMIBF'\n",
    "output_dict = {}\n",
    "elements = s.split('<br/>')\n",
    "for element in elements:\n",
    "    key, value = (element.split(': ')[0], element.split(': ')[1])\n",
    "    output_dict[key] = value\n",
    "\n",
    "print(output_dict)"
   ]
  },
  {
   "cell_type": "code",
   "execution_count": 7,
   "metadata": {
    "colab": {},
    "colab_type": "code",
    "id": "2PxTPKuglz9z"
   },
   "outputs": [
    {
     "ename": "FileExistsError",
     "evalue": "[Errno 17] File exists: 'DIT'",
     "output_type": "error",
     "traceback": [
      "\u001b[0;31m---------------------------------------------------------------------------\u001b[0m",
      "\u001b[0;31mFileExistsError\u001b[0m                           Traceback (most recent call last)",
      "\u001b[0;32m<ipython-input-7-4c565015e41e>\u001b[0m in \u001b[0;36m<module>\u001b[0;34m\u001b[0m\n\u001b[1;32m     46\u001b[0m \u001b[0;34m\u001b[0m\u001b[0m\n\u001b[1;32m     47\u001b[0m \u001b[0;31m# create folders (DIT, SIT, UAT, PROD) in four differenct locations\u001b[0m\u001b[0;34m\u001b[0m\u001b[0;34m\u001b[0m\u001b[0;34m\u001b[0m\u001b[0m\n\u001b[0;32m---> 48\u001b[0;31m \u001b[0mmake_directories\u001b[0m\u001b[0;34m(\u001b[0m\u001b[0mtest_dir\u001b[0m\u001b[0;34m,\u001b[0m \u001b[0mdirectories_list\u001b[0m\u001b[0;34m)\u001b[0m\u001b[0;34m\u001b[0m\u001b[0;34m\u001b[0m\u001b[0m\n\u001b[0m\u001b[1;32m     49\u001b[0m \u001b[0;34m\u001b[0m\u001b[0m\n\u001b[1;32m     50\u001b[0m \u001b[0;31m# 1. create two new files (example a.txt, b.txt) in DIT\u001b[0m\u001b[0;34m\u001b[0m\u001b[0;34m\u001b[0m\u001b[0;34m\u001b[0m\u001b[0m\n",
      "\u001b[0;32m<ipython-input-7-4c565015e41e>\u001b[0m in \u001b[0;36mmake_directories\u001b[0;34m(dir_path, get_dir_list)\u001b[0m\n\u001b[1;32m      9\u001b[0m \u001b[0;32mdef\u001b[0m \u001b[0mmake_directories\u001b[0m\u001b[0;34m(\u001b[0m\u001b[0mdir_path\u001b[0m\u001b[0;34m,\u001b[0m \u001b[0mget_dir_list\u001b[0m\u001b[0;34m)\u001b[0m\u001b[0;34m:\u001b[0m\u001b[0;34m\u001b[0m\u001b[0;34m\u001b[0m\u001b[0m\n\u001b[1;32m     10\u001b[0m     \u001b[0;32mfor\u001b[0m \u001b[0mname\u001b[0m \u001b[0;32min\u001b[0m \u001b[0mget_dir_list\u001b[0m\u001b[0;34m:\u001b[0m\u001b[0;34m\u001b[0m\u001b[0;34m\u001b[0m\u001b[0m\n\u001b[0;32m---> 11\u001b[0;31m         \u001b[0mos\u001b[0m\u001b[0;34m.\u001b[0m\u001b[0mmkdir\u001b[0m\u001b[0;34m(\u001b[0m\u001b[0mname\u001b[0m\u001b[0;34m)\u001b[0m\u001b[0;34m\u001b[0m\u001b[0;34m\u001b[0m\u001b[0m\n\u001b[0m\u001b[1;32m     12\u001b[0m \u001b[0;34m\u001b[0m\u001b[0m\n\u001b[1;32m     13\u001b[0m \u001b[0;32mdef\u001b[0m \u001b[0mcreate_files\u001b[0m\u001b[0;34m(\u001b[0m\u001b[0mdir_path\u001b[0m\u001b[0;34m,\u001b[0m \u001b[0mfile_1\u001b[0m\u001b[0;34m,\u001b[0m \u001b[0mfile_2\u001b[0m\u001b[0;34m)\u001b[0m\u001b[0;34m:\u001b[0m\u001b[0;34m\u001b[0m\u001b[0;34m\u001b[0m\u001b[0m\n",
      "\u001b[0;31mFileExistsError\u001b[0m: [Errno 17] File exists: 'DIT'"
     ]
    }
   ],
   "source": [
    "#2. the script has to do foollowing things\n",
    "import os\n",
    "from os import mknod\n",
    "\n",
    "def change_dir_to(dir_path):\n",
    "    os.chdir(dir_path)\n",
    "    print(f'Current Directory: {os.getcwd()}')\n",
    "\n",
    "def make_directories(dir_path, get_dir_list):\n",
    "    for name in directories_list:\n",
    "        if not os.path.exists(name):\n",
    "            os.mkdir(name)\n",
    "        else :\n",
    "            print(f'Directory {name} already exists')\n",
    "\n",
    "def create_files(dir_path, file_1, file_2):\n",
    "    change_dir_to(dir_path)\n",
    "    if not (os.path.exists(file_1) and os.path.exists(file_2)):\n",
    "        mknod(file_1)\n",
    "        mknod(file_2)\n",
    "        print(f'file {file_1} and {file_2} created')\n",
    "    else: \n",
    "        pass\n",
    "\n",
    "def copy_origin_destination(ori_gin, desti_nation, file_1, file_2):\n",
    "    change_dir_to(test_dir)\n",
    "    os.system('cp ' + os.path.join(test_dir, ori_gin, file_1) + ' ' + os.path.join(test_dir, desti_nation, file_1))\n",
    "    os.system('cp ' + os.path.join(test_dir, ori_gin, file_2) + ' ' + os.path.join(test_dir, desti_nation, file_2))\n",
    "    print('Copying Done!')\n",
    "\n",
    "def rename_to_backup(dir_path, file_1, file_2):\n",
    "    change_dir_to(dir_path)\n",
    "    os.rename(file_1, 'a_backup.txt')\n",
    "    os.rename(file_2, 'b_backup.txt')\n",
    "    print('renamed!')\n",
    "\n",
    "def delete_files_with_backup(dir_path):\n",
    "    change_dir_to(dir_path)\n",
    "    for filename in os.listdir():\n",
    "        if '_backup' in filename:\n",
    "            os.remove(filename)\n",
    "        else:\n",
    "            print(f'{filename} not deleted')\n",
    "            \n",
    "test_dir = '/home/spartan/Downloads/play_with_pyhton/test'\n",
    "directories_list = ['DIT', 'SIT', 'UAT', 'PROD']\n",
    "\n",
    "# create folders (DIT, SIT, UAT, PROD) in four differenct locations\n",
    "make_directories(test_dir, directories_list)\n",
    "        \n",
    "# 1. create two new files (example a.txt, b.txt) in DIT\n",
    "create_files(os.path.join(test_dir, 'DIT'), 'a.txt', 'b.txt')\n",
    "\n",
    "# # # 2. able to copy files between any two folders\n",
    "copy_origin_destination('DIT', 'SIT', 'a.txt', 'b.txt')\n",
    "\n",
    "# 3. able to renames existing files with _backup. if file name a.txt it should rename a_backup\n",
    "rename_to_backup(os.path.join(test_dir, 'DIT'), 'a.txt', 'b.txt')\n",
    "\n",
    "# 4. able to delete files if file name has _backup\n",
    "delete_files_with_backup(os.path.join(test_dir, 'DIT'))\n",
    "\n"
   ]
  },
  {
   "cell_type": "code",
   "execution_count": 1,
   "metadata": {
    "colab": {},
    "colab_type": "code",
    "id": "Mqod2tJHrodN"
   },
   "outputs": [
    {
     "name": "stdout",
     "output_type": "stream",
     "text": [
      "file.txt.zip\n"
     ]
    }
   ],
   "source": [
    "# 3. which method do you use to remove file extension?\n",
    "import os\n",
    "with_ex = 'file.txt.zip.asc'\n",
    "print(os.path.splitext(with_ex)[0])"
   ]
  },
  {
   "cell_type": "code",
   "execution_count": null,
   "metadata": {
    "colab": {},
    "colab_type": "code",
    "id": "gqAwY21OsCAy"
   },
   "outputs": [],
   "source": [
    "# 4 . walk thorugh directory which has atleast 4 folderes and print all the files\n",
    "# inside folder\n",
    "import os\n",
    "test_dir = '/home/spartan/Downloads/play_with_pyhton/test'\n",
    "os.chdir(test_dir)\n",
    "for dirpath, dirnames, filenames in os.walk(test_dir):\n",
    "    print(f'Path: {dirpath} --> {filenames}')\n",
    "    print()"
   ]
  },
  {
   "cell_type": "code",
   "execution_count": null,
   "metadata": {
    "colab": {},
    "colab_type": "code",
    "id": "VSU_PBz2sQ_w"
   },
   "outputs": [],
   "source": [
    "# 5. using glob module as well as os module find all the files with extension .txt\n",
    "# in a given folder\n",
    "import glob\n",
    "os.chdir('/home/spartan/Downloads/play_with_pyhton/')\n",
    "glob.glob('*.txt')"
   ]
  },
  {
   "cell_type": "code",
   "execution_count": null,
   "metadata": {
    "colab": {},
    "colab_type": "code",
    "id": "5v_x3Q1tsmKL"
   },
   "outputs": [],
   "source": [
    "# 6. create environment variable myname = 'ravi'\n",
    "# try to access using python\n",
    "import os \n",
    "os.environ['myname'] = 'ravi' # to creae variable  \n",
    "if 'myname' in os.environ: #to access\n",
    "    print(os.environ['myname'])\n",
    "# Can see this variable if you can activate my virtual environment"
   ]
  },
  {
   "cell_type": "code",
   "execution_count": null,
   "metadata": {
    "colab": {},
    "colab_type": "code",
    "id": "0aW-H0mks_IP"
   },
   "outputs": [],
   "source": [
    "#7. open resume word documnet using os module\n",
    "# ref system method\n",
    "# save the command to variable and print it\n",
    "import os\n",
    "os.getcwd()\n",
    "cmd = 'xdg-open /home/spartan/Downloads/play_with_pyhton/ravi_2019.docx'\n",
    "os.system(cmd)\n",
    "print(cmd)"
   ]
  },
  {
   "cell_type": "code",
   "execution_count": null,
   "metadata": {
    "colab": {},
    "colab_type": "code",
    "id": "nwTTqlbjt3NA"
   },
   "outputs": [],
   "source": [
    "#8. write an automation script to open application or docs whnever system \n",
    "# restarted\n",
    "# crontab -e \n",
    "# @reboot play_with_pyhton/venv/bin/python3 test.py \n",
    "# after reboot can see demo.txt got appended with text "
   ]
  },
  {
   "cell_type": "code",
   "execution_count": null,
   "metadata": {
    "colab": {},
    "colab_type": "code",
    "id": "Na_OuR0OuUfG"
   },
   "outputs": [],
   "source": [
    "# 9. create something that retrun filenotfounderror\n",
    "file = open('tags.htm', 'r').readlines()"
   ]
  },
  {
   "cell_type": "code",
   "execution_count": null,
   "metadata": {
    "colab": {},
    "colab_type": "code",
    "id": "1ngl0Imnua0e"
   },
   "outputs": [],
   "source": [
    "# 10 . how do you run python program unix like systems?\n",
    "# Can be used by invoking python interactive shell with python or python3 in terminal\n",
    "# or by saving script to .py file and calling python interpreter like python name.py or python3 name.py"
   ]
  },
  {
   "cell_type": "code",
   "execution_count": null,
   "metadata": {
    "colab": {},
    "colab_type": "code",
    "id": "ysU4ldI5zlZy"
   },
   "outputs": [],
   "source": [
    "# 11. get the files whose size more than 1 kb\n",
    "import os \n",
    "set_path = '/home/spartan/Downloads/play_with_pyhton'\n",
    "for filename in os.listdir(set_path):\n",
    "    if os.path.isfile(filename) and os.stat(filename).st_size > 125:\n",
    "        print(filename)    "
   ]
  },
  {
   "cell_type": "code",
   "execution_count": null,
   "metadata": {
    "colab": {},
    "colab_type": "code",
    "id": "AgStg8r4z9Dm"
   },
   "outputs": [],
   "source": [
    "# 12. modify resume.html by clicking the link one can able to go toyour git repo\n",
    "# add linkedin profile link also, if you don't hav one create it"
   ]
  }
 ],
 "metadata": {
  "colab": {
   "collapsed_sections": [],
   "name": "T5_0S.ipynb",
   "provenance": []
  },
  "kernelspec": {
   "display_name": "Python 3",
   "language": "python",
   "name": "python3"
  },
  "language_info": {
   "codemirror_mode": {
    "name": "ipython",
    "version": 3
   },
   "file_extension": ".py",
   "mimetype": "text/x-python",
   "name": "python",
   "nbconvert_exporter": "python",
   "pygments_lexer": "ipython3",
   "version": "3.6.8"
  }
 },
 "nbformat": 4,
 "nbformat_minor": 1
}
