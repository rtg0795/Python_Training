{
  "nbformat": 4,
  "nbformat_minor": 0,
  "metadata": {
    "colab": {
      "name": "task4_re.ipynb",
      "provenance": [],
      "collapsed_sections": []
    },
    "kernelspec": {
      "name": "python3",
      "display_name": "Python 3"
    }
  },
  "cells": [
    {
      "cell_type": "code",
      "metadata": {
        "id": "XzLBLkG2YA4H",
        "colab_type": "code",
        "colab": {}
      },
      "source": [
        "'''complete entire re module'''\n",
        "''' if you are using any special modules please write steps how would you \n",
        "solve using inbuilt modules'''\n",
        "''' As ther will be restrictions using third party libraries in some\n",
        "work places'''"
      ],
      "execution_count": 0,
      "outputs": []
    },
    {
      "cell_type": "code",
      "metadata": {
        "id": "ZuzchNbzXJia",
        "colab_type": "code",
        "colab": {}
      },
      "source": [
        "'''1.from task3 2nd qustion'''\n",
        "# it should pass all test cases\n",
        "# at&t, at (t, t mobile, t- mobile, T-mobilet, at@ t\n",
        "# refer how to remove special character using re module"
      ],
      "execution_count": 0,
      "outputs": []
    },
    {
      "cell_type": "code",
      "metadata": {
        "id": "tAjV3DncX-E7",
        "colab_type": "code",
        "colab": {}
      },
      "source": [
        "'''2. create a current resume with html version '''\n",
        "'''using only h, p, li, ul, a tags'''"
      ],
      "execution_count": 0,
      "outputs": []
    },
    {
      "cell_type": "code",
      "metadata": {
        "id": "oIrzy4InYweX",
        "colab_type": "code",
        "colab": {}
      },
      "source": [
        "'''3. 1.find the function to list all modules of pyhton version\n",
        "2. someone gave you django project and you want to know what are all the modules\n",
        "and version used for the project, how would you do that'''"
      ],
      "execution_count": 0,
      "outputs": []
    },
    {
      "cell_type": "code",
      "metadata": {
        "id": "sJTIRqnccIPo",
        "colab_type": "code",
        "colab": {}
      },
      "source": [
        "'''4. '''\n",
        "x = 'dkjshfa'\n",
        "y = 'fsa112'\n",
        "z = '12133'\n",
        "\n",
        "# convert x, y,z to small , upper, camel case, check whether numeric, alpahanumereic\n",
        "# or only aplaphabetical, whether it's upper or lower"
      ],
      "execution_count": 0,
      "outputs": []
    },
    {
      "cell_type": "code",
      "metadata": {
        "id": "vi9vQuNiuT43",
        "colab_type": "code",
        "colab": {}
      },
      "source": [
        "'''5. write a function'''\n",
        "# input can be string or integer\n",
        "# minimum output length has to be 8\n",
        "# if input has less than 8 it should put 0's infront\n",
        "# ex: 'jhr' output: '00000jhr'"
      ],
      "execution_count": 0,
      "outputs": []
    },
    {
      "cell_type": "code",
      "metadata": {
        "id": "GAX0ePWUu8Uc",
        "colab_type": "code",
        "colab": {}
      },
      "source": [
        "'''6. create something that produces Name Error'''"
      ],
      "execution_count": 0,
      "outputs": []
    },
    {
      "cell_type": "code",
      "metadata": {
        "id": "xBxkqa-TwjB2",
        "colab_type": "code",
        "colab": {}
      },
      "source": [
        "'''7. create a module with one variable and one print statement\n",
        " try to access this variable from another module'''"
      ],
      "execution_count": 0,
      "outputs": []
    },
    {
      "cell_type": "code",
      "metadata": {
        "id": "KLyo7rwkyaOZ",
        "colab_type": "code",
        "colab": {}
      },
      "source": [
        "'''8. convert the following list one string without using for loop or \n",
        "comprehension''' \n",
        "x = ['i', 'am', 'learning', 'python']"
      ],
      "execution_count": 0,
      "outputs": []
    },
    {
      "cell_type": "code",
      "metadata": {
        "id": "lOMxA2qy10o8",
        "colab_type": "code",
        "colab": {}
      },
      "source": [
        "#9\n",
        "y = [1,2,'am, '3', 'hdsfhk'] # convert into one string"
      ],
      "execution_count": 0,
      "outputs": []
    },
    {
      "cell_type": "code",
      "metadata": {
        "id": "0hQW8A0V2Cf_",
        "colab_type": "code",
        "colab": {}
      },
      "source": [
        "'''10. Python allows you to create anonymous function \n",
        "i.e function having no names using a facility called lambda function.\n",
        "'''\n",
        "r = lambda x, y: x * y\n",
        "r(12, 3)   # call the lambda function\n",
        "\n",
        "# create a lamda function \n",
        "#1. to calculate a simple interest\n",
        "#2. create lamda function to add result of simple interest to lamda functio r"
      ],
      "execution_count": 0,
      "outputs": []
    }
  ]
}