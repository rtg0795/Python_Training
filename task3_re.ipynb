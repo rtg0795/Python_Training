{
 "cells": [
  {
   "cell_type": "code",
   "execution_count": null,
   "metadata": {
    "colab": {},
    "colab_type": "code",
    "id": "3FBzw69s9I5f"
   },
   "outputs": [],
   "source": [
    "# when using with statemnet we don't need to include f.close() it automatically \n",
    "# closes the file\n",
    "\n",
    "'''please go through first 30 min of this video.. It is recommended to have \n",
    "atleast 3 to 4 hr break\n",
    "after watching this video to do assignment'''\n",
    "# ref: https://www.youtube.com/watch?v=K8L6KVGG-7o\n",
    "\n",
    "'''\n",
    ".       - Any Character Except New Line\n",
    "\\d      - Digit (0-9)\n",
    "\\D      - Not a Digit (0-9)\n",
    "\\w      - Word Character (a-z, A-Z, 0-9, _)\n",
    "\\W      - Not a Word Character\n",
    "\\s      - Whitespace (space, tab, newline)\n",
    "\\S      - Not Whitespace (space, tab, newline)\n",
    "\n",
    "\\b      - Word Boundary\n",
    "\\B      - Not a Word Boundary\n",
    "^       - Beginning of a String\n",
    "$       - End of a String\n",
    "\n",
    "[]      - Matches Characters in brackets\n",
    "[^ ]    - Matches Characters NOT in brackets\n",
    "|       - Either Or\n",
    "( )     - Group\n",
    "\n",
    "Quantifiers:\n",
    "*       - 0 or More\n",
    "+       - 1 or More\n",
    "?       - 0 or One\n",
    "{3}     - Exact Number\n",
    "{3,4}   - Range of Numbers (Minimum, Maximum)\n",
    "\n",
    "\n",
    "#### Sample Regexs ####\n",
    "\n",
    "[a-zA-Z0-9_.+-]+@[a-zA-Z0-9-]+\\.[a-zA-Z0-9-.]+\n",
    "'''"
   ]
  },
  {
   "cell_type": "code",
   "execution_count": 24,
   "metadata": {
    "colab": {},
    "colab_type": "code",
    "id": "3fTt9FJS-UOV"
   },
   "outputs": [
    {
     "name": "stdout",
     "output_type": "stream",
     "text": [
      "['A', 'ASCII', 'DEBUG', 'DOTALL', 'I', 'IGNORECASE', 'L', 'LOCALE', 'M', 'MULTILINE', 'RegexFlag', 'S', 'Scanner', 'T', 'TEMPLATE', 'U', 'UNICODE', 'VERBOSE', 'X', '_MAXCACHE', '__all__', '__builtins__', '__cached__', '__doc__', '__file__', '__loader__', '__name__', '__package__', '__spec__', '__version__', '_alphanum_bytes', '_alphanum_str', '_cache', '_compile', '_compile_repl', '_expand', '_locale', '_pattern_type', '_pickle', '_subx', 'compile', 'copyreg', 'enum', 'error', 'escape', 'findall', 'finditer', 'fullmatch', 'functools', 'match', 'purge', 'search', 'split', 'sre_compile', 'sre_parse', 'sub', 'subn', 'template']\n"
     ]
    },
    {
     "data": {
      "text/plain": [
       "<function function.__dir__>"
      ]
     },
     "execution_count": 24,
     "metadata": {},
     "output_type": "execute_result"
    }
   ],
   "source": [
    "# find an inbuild function that returns list of attributes and methods of\n",
    "# a given object\n",
    "import re\n",
    "# dir(re)\n",
    "print(dir(re))\n",
    "\n",
    "# 1. apply that function to re module print the results\n",
    "def some_function():\n",
    "    '''\n",
    "    test function for doc string\n",
    "    '''\n",
    "    print('hello')\n",
    "\n",
    "dir(some_function)\n",
    "some_function.__dir__"
   ]
  },
  {
   "cell_type": "code",
   "execution_count": 35,
   "metadata": {
    "colab": {},
    "colab_type": "code",
    "id": "oKJrEPq2ayS6"
   },
   "outputs": [
    {
     "data": {
      "text/plain": [
       "'Not Valid'"
      ]
     },
     "execution_count": 35,
     "metadata": {},
     "output_type": "execute_result"
    }
   ],
   "source": [
    "# 2. write a function: input string, output: ATT or TMOBILE or not vaild\n",
    "# example inputs : at*t, at&t, t_mobile\n",
    "# inputs can be any combination with special characters\n",
    "# not valid example: 'at*ty'\n",
    "import re \n",
    "\n",
    "# input_string = 'at@t'\n",
    "# print(re.compile(r'at.t').findall(input_string))\n",
    "\n",
    "def validate(passed_string):\n",
    "    split = re.split(r'[`\\-=~!@#$%^&*()_+\\[\\]{};\\'\\\\:\"|<,./<>?]', input_string)\n",
    "    result = ''.join(split)\n",
    "    return 'ATT' if result == 'att' else 'TMOBILE' if result == 'tmobile' else 'Not Valid'\n",
    "\n",
    "\n",
    "input_string = 't_mbile'\n",
    "validate(input_string)\n"
   ]
  },
  {
   "cell_type": "code",
   "execution_count": 26,
   "metadata": {
    "colab": {},
    "colab_type": "code",
    "id": "dnJvxvSGc1k2"
   },
   "outputs": [
    {
     "name": "stdout",
     "output_type": "stream",
     "text": [
      "Not Valid\n"
     ]
    }
   ],
   "source": [
    "#3. write a function to check whether the given input is a valid ip adress or not\n",
    "import re\n",
    "\n",
    "def validate(ip):\n",
    "    pattern = re.compile(r'^(([0-9]|[1-9][0-9]|1[0-9]{2}|2[0-4][0-9]|25[0-5])\\.){3}([0-9]|[1-9][0-9]|1[0-9]{2}|2[0-4][0-9]|25[0-5])$')\n",
    "    if re.match(pattern, ip):\n",
    "        return 'Valid'\n",
    "    else:\n",
    "        return 'Not Valid'\n",
    "\n",
    "ip_address = '255.265.12.34'\n",
    "print(validate(ip_address))"
   ]
  },
  {
   "cell_type": "code",
   "execution_count": 13,
   "metadata": {
    "colab": {},
    "colab_type": "code",
    "id": "oCVG10OOdIEV"
   },
   "outputs": [
    {
     "name": "stdout",
     "output_type": "stream",
     "text": [
      "developer: 3\n",
      "in: 3\n",
      "python: 3\n",
      "india: 3\n",
      "based: 2\n",
      "web: 2\n",
      "experience: 2\n",
      "testing: 2\n",
      "graphql: 2\n",
      "developing: 2\n",
      "paas: 2\n",
      "reusable: 2\n",
      "work: 2\n",
      "django: 2\n",
      "computer: 2\n",
      "science: 2\n",
      "raviteja: 1\n",
      "gorijala: 1\n",
      "los: 1\n",
      "angeles: 1\n",
      "objective: 1\n",
      "focused: 1\n",
      "full: 1\n",
      "stack: 1\n",
      "eye: 1\n",
      "smooth: 1\n",
      "performance: 1\n",
      "balanced: 1\n",
      "secure: 1\n",
      "highlights: 1\n",
      "year: 1\n",
      "building: 1\n",
      "rest: 1\n",
      "apis: 1\n",
      "using: 1\n",
      "deploying: 1\n",
      "maintaining: 1\n",
      "apps: 1\n",
      "debugging: 1\n",
      "writing: 1\n",
      "history: 1\n",
      "software: 1\n",
      "solutions: 1\n",
      "services: 1\n",
      "involved: 1\n",
      "product: 1\n",
      "prototyping: 1\n",
      "designing: 1\n",
      "development: 1\n",
      "responsible: 1\n",
      "components: 1\n",
      "seamlessly: 1\n",
      "working: 1\n",
      "team: 1\n",
      "people: 1\n",
      "clients: 1\n",
      "us: 1\n",
      "australia: 1\n",
      "technical: 1\n",
      "skills: 1\n",
      "html: 1\n",
      "css: 1\n",
      "javascript: 1\n",
      "bootstrap: 1\n",
      "git: 1\n",
      "sql: 1\n",
      "json: 1\n",
      "mongodb: 1\n",
      "nodejs: 1\n",
      "aws: 1\n",
      "heroku: 1\n",
      "linux: 1\n",
      "education: 1\n",
      "ms: 1\n",
      "may: 1\n",
      "gpa: 1\n",
      "csu: 1\n",
      "channel: 1\n",
      "islands: 1\n",
      "california: 1\n",
      "bs: 1\n",
      "techno: 1\n",
      "university: 1\n",
      "kolkata: 1\n"
     ]
    },
    {
     "name": "stderr",
     "output_type": "stream",
     "text": [
      "[nltk_data] Downloading package stopwords to\n",
      "[nltk_data]     /home/spartan/nltk_data...\n",
      "[nltk_data]   Package stopwords is already up-to-date!\n"
     ]
    }
   ],
   "source": [
    "#4. 1. write a script to read your resume\n",
    "#   2. get all the unique words, number of occurances, order them from highest to lowest\n",
    "from collections import Counter\n",
    "import docx\n",
    "import re\n",
    "import nltk\n",
    "nltk.download('stopwords')\n",
    "from nltk.corpus import stopwords\n",
    "\n",
    "doc = docx.Document('ravi_2019.docx')\n",
    "completeText = []\n",
    "\n",
    "for paragraph in doc.paragraphs:\n",
    "    completeText.append(paragraph.text)\n",
    "\n",
    "sentence = '\\n'.join(completeText)\n",
    "# sentence = 'Hi, how Is is hello the day going hello'\n",
    "sentence_list = sentence.replace(', ', ' ').split()\n",
    "stop_words = set(stopwords.words('english'))\n",
    "new_sentence_list = []\n",
    "for x in sentence_list:\n",
    "    if x not in stop_words:\n",
    "        new_sentence_list.append(x)\n",
    "new_list = []\n",
    "for x in new_sentence_list:\n",
    "    m = re.match(r'^[a-zA-Z]+$', x)\n",
    "    if m:\n",
    "        new_list.append(m.group(0).lower())  \n",
    "counter = Counter(new_list)\n",
    "sorted_keys = sorted(counter, key=counter.get, reverse=True)\n",
    "for word in sorted_keys:\n",
    "    print(f'{word}: {counter[word]}')"
   ]
  },
  {
   "cell_type": "code",
   "execution_count": null,
   "metadata": {
    "colab": {},
    "colab_type": "code",
    "id": "chX9PCDWff6L"
   },
   "outputs": [],
   "source": [
    "#5. write a script to read the previous html and prints all the information inside tags(h1,h2,h3,h4,h5,h6)\n",
    "from bs4 import BeautifulSoup\n",
    "\n",
    "with open('tags.html', 'r') as f:\n",
    "    if f.mode == 'r':\n",
    "        contents = f.read()\n",
    "        soup = BeautifulSoup(contents, 'html.parser')\n",
    "        for i in soup.body:\n",
    "            print(i.string)"
   ]
  },
  {
   "cell_type": "code",
   "execution_count": null,
   "metadata": {
    "colab": {},
    "colab_type": "code",
    "id": "RsL-46UAgkEc"
   },
   "outputs": [],
   "source": [
    "#6. interview question \n",
    "# these you can tell in your own words. does not necessary to be match with google answer\n",
    "# think of you are explaining to someone when recording\n",
    "# what are the differences between python 2 and python 3 version"
   ]
  }
 ],
 "metadata": {
  "colab": {
   "collapsed_sections": [],
   "name": "task3_re.ipynb",
   "provenance": []
  },
  "kernelspec": {
   "display_name": "Python 3",
   "language": "python",
   "name": "python3"
  },
  "language_info": {
   "codemirror_mode": {
    "name": "ipython",
    "version": 3
   },
   "file_extension": ".py",
   "mimetype": "text/x-python",
   "name": "python",
   "nbconvert_exporter": "python",
   "pygments_lexer": "ipython3",
   "version": "3.6.0"
  }
 },
 "nbformat": 4,
 "nbformat_minor": 1
}
