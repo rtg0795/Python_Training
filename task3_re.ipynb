{
  "nbformat": 4,
  "nbformat_minor": 0,
  "metadata": {
    "colab": {
      "name": "task3_re.ipynb",
      "provenance": [],
      "collapsed_sections": []
    },
    "kernelspec": {
      "name": "python3",
      "display_name": "Python 3"
    }
  },
  "cells": [
    {
      "cell_type": "code",
      "metadata": {
        "id": "3FBzw69s9I5f",
        "colab_type": "code",
        "colab": {}
      },
      "source": [
        "# when using with statemnet we don't need to include f.close() it automatically \n",
        "# closes the file\n",
        "\n",
        "'''please go through first 30 min of this video.. It is recommended to have \n",
        "atleast 3 to 4 hr break\n",
        "after watching this video to do assignment'''\n",
        "# ref: https://www.youtube.com/watch?v=K8L6KVGG-7o\n",
        "\n",
        "'''\n",
        ".       - Any Character Except New Line\n",
        "\\d      - Digit (0-9)\n",
        "\\D      - Not a Digit (0-9)\n",
        "\\w      - Word Character (a-z, A-Z, 0-9, _)\n",
        "\\W      - Not a Word Character\n",
        "\\s      - Whitespace (space, tab, newline)\n",
        "\\S      - Not Whitespace (space, tab, newline)\n",
        "\n",
        "\\b      - Word Boundary\n",
        "\\B      - Not a Word Boundary\n",
        "^       - Beginning of a String\n",
        "$       - End of a String\n",
        "\n",
        "[]      - Matches Characters in brackets\n",
        "[^ ]    - Matches Characters NOT in brackets\n",
        "|       - Either Or\n",
        "( )     - Group\n",
        "\n",
        "Quantifiers:\n",
        "*       - 0 or More\n",
        "+       - 1 or More\n",
        "?       - 0 or One\n",
        "{3}     - Exact Number\n",
        "{3,4}   - Range of Numbers (Minimum, Maximum)\n",
        "\n",
        "\n",
        "#### Sample Regexs ####\n",
        "\n",
        "[a-zA-Z0-9_.+-]+@[a-zA-Z0-9-]+\\.[a-zA-Z0-9-.]+\n",
        "'''\n"
      ],
      "execution_count": 0,
      "outputs": []
    },
    {
      "cell_type": "code",
      "metadata": {
        "id": "3fTt9FJS-UOV",
        "colab_type": "code",
        "colab": {}
      },
      "source": [
        "# find an inbuild function that returns list of attributes and methods of\n",
        "# a given object\n",
        "\n",
        "# 1. apply that function to re module print the results"
      ],
      "execution_count": 0,
      "outputs": []
    },
    {
      "cell_type": "code",
      "metadata": {
        "id": "oKJrEPq2ayS6",
        "colab_type": "code",
        "colab": {}
      },
      "source": [
        "# 2. write a function: input string, output: ATT or TMOBILE or not vaild\n",
        "# example inputs : at*t, at&t, t_mobile\n",
        "# inputs can be any combination with special characters\n",
        "# not valid example: 'at*ty'"
      ],
      "execution_count": 0,
      "outputs": []
    },
    {
      "cell_type": "code",
      "metadata": {
        "id": "dnJvxvSGc1k2",
        "colab_type": "code",
        "colab": {}
      },
      "source": [
        "#3. write a function to check whether the given input is a valid ip adress or not"
      ],
      "execution_count": 0,
      "outputs": []
    },
    {
      "cell_type": "code",
      "metadata": {
        "id": "oCVG10OOdIEV",
        "colab_type": "code",
        "colab": {}
      },
      "source": [
        "#4. 1. write a script to read your resume\n",
        "#   2. get all the unique words, number of occurances, order them from highest to lowest"
      ],
      "execution_count": 0,
      "outputs": []
    },
    {
      "cell_type": "code",
      "metadata": {
        "id": "chX9PCDWff6L",
        "colab_type": "code",
        "colab": {}
      },
      "source": [
        "#5. write a script to read the previous html and prints all the information inside tags(h1,h2,h3,h4,h5,h6)"
      ],
      "execution_count": 0,
      "outputs": []
    },
    {
      "cell_type": "code",
      "metadata": {
        "id": "RsL-46UAgkEc",
        "colab_type": "code",
        "colab": {}
      },
      "source": [
        "#6. interview question \n",
        "# these you can tell in your own words. does not necessary to be match with google answer\n",
        "# think of you are explaining to someone when recording\n",
        "# what are the differences between python 2 and python 3 version"
      ],
      "execution_count": 0,
      "outputs": []
    }
  ]
}