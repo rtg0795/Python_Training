{
 "cells": [
  {
   "cell_type": "code",
   "execution_count": null,
   "metadata": {
    "colab": {},
    "colab_type": "code",
    "id": "ZNcBKZz_buha"
   },
   "outputs": [],
   "source": [
    "# ref: https://www.youtube.com/watch?v=Qved1p-5iP8\n",
    "# ref: https://www.youtube.com/watch?v=cdblJqEUDNo (optional recommended)\n",
    "\n",
    "# 1. write a script that takes input has folder name and search in the system\n",
    "# if available print path else it should print not available\n",
    "# execute argparse_search_folder.py file with folder name as argument -f 'folder_name' "
   ]
  },
  {
   "cell_type": "code",
   "execution_count": null,
   "metadata": {
    "colab": {},
    "colab_type": "code",
    "id": "oueSAzp6AvsW"
   },
   "outputs": [],
   "source": [
    "#2. when run the program  the script takes input from the user\n",
    "# print the input using sys.argv\n",
    "\n",
    "import sys\n",
    "\n",
    "# print(len(sys.argv))\n",
    "\n",
    "class PrintArgs:\n",
    "    def __init__(self, args):\n",
    "        self.args = args\n",
    "        self.num_of_args = len(args)\n",
    "    \n",
    "    def print_args(self):\n",
    "        for x in range(1, self.num_of_args):\n",
    "            print(self.args[x])\n",
    "\n",
    "class_init = PrintArgs(sys.argv)\n",
    "class_init.print_args()\n",
    "# run by passing arguments and it should print all arguments passed\n",
    "    "
   ]
  },
  {
   "cell_type": "code",
   "execution_count": 1,
   "metadata": {
    "colab": {},
    "colab_type": "code",
    "id": "upEx1WhICbcf"
   },
   "outputs": [
    {
     "name": "stdout",
     "output_type": "stream",
     "text": [
      "/home/spartan/Downloads/play_with_pyhton/venv/lib/python36.zip\n",
      "/home/spartan/Downloads/play_with_pyhton/venv/lib/python3.6\n",
      "/home/spartan/Downloads/play_with_pyhton/venv/lib/python3.6/lib-dynload\n",
      "/usr/lib/python3.6\n",
      "\n",
      "/home/spartan/Downloads/play_with_pyhton/venv/lib/python3.6/site-packages\n",
      "/home/spartan/Downloads/play_with_pyhton/venv/lib/python3.6/site-packages/IPython/extensions\n",
      "/home/spartan/.ipython\n",
      "-------------------------\n",
      "/home/spartan/Downloads/play_with_pyhton/venv/lib/python36.zip\n",
      "/home/spartan/Downloads/play_with_pyhton/venv/lib/python3.6\n",
      "/home/spartan/Downloads/play_with_pyhton/venv/lib/python3.6/lib-dynload\n",
      "/usr/lib/python3.6\n",
      "\n",
      "/home/spartan/Downloads/play_with_pyhton/venv/lib/python3.6/site-packages\n",
      "/home/spartan/Downloads/play_with_pyhton/venv/lib/python3.6/site-packages/IPython/extensions\n",
      "/home/spartan/.ipython\n",
      "/home/spartan/Downloads/play_with_pyhton/basics.py\n"
     ]
    }
   ],
   "source": [
    "#3.print sys.path\n",
    "# take any path to a file and add that file to sys.path\n",
    "from sys import path\n",
    "\n",
    "path_to_file = '/home/spartan/Downloads/play_with_pyhton/basics.py'\n",
    "print('\\n'.join(path))\n",
    "path.append(path_to_file)\n",
    "print('-------------------------')\n",
    "print('\\n'.join(path))"
   ]
  },
  {
   "cell_type": "code",
   "execution_count": 11,
   "metadata": {
    "colab": {},
    "colab_type": "code",
    "id": "6udsx83YDHe3"
   },
   "outputs": [
    {
     "name": "stdout",
     "output_type": "stream",
     "text": [
      "2\n"
     ]
    },
    {
     "ename": "SystemExit",
     "evalue": "Terminated",
     "output_type": "error",
     "traceback": [
      "An exception has occurred, use %tb to see the full traceback.\n",
      "\u001b[0;31mSystemExit\u001b[0m\u001b[0;31m:\u001b[0m Terminated\n"
     ]
    }
   ],
   "source": [
    "#4. modify the program it shouldn't print something\n",
    "import sys\n",
    "def some_func(a):\n",
    "    if a != 1:\n",
    "        print(a)\n",
    "        sys.exit()\n",
    "def some_func2():\n",
    "  some_func(a)\n",
    "  print(\"something\")\n",
    "  \n",
    "if __name__=='__main__':\n",
    "  a=2\n",
    "  some_func2()"
   ]
  },
  {
   "cell_type": "code",
   "execution_count": null,
   "metadata": {
    "colab": {},
    "colab_type": "code",
    "id": "1UQVZK0bLRHF"
   },
   "outputs": [],
   "source": [
    "#5. which method to use print something in red colour\n",
    "\n",
    "print(\"\\033[1;31;40m Red Out  \\n\")\n",
    "# source link http://ozzmaker.com/add-colour-to-text-in-python/\n",
    "# ANSI escape code"
   ]
  },
  {
   "cell_type": "code",
   "execution_count": null,
   "metadata": {
    "colab": {},
    "colab_type": "code",
    "id": "XXlHgI8BUpQE"
   },
   "outputs": [],
   "source": [
    "#6. "
   ]
  }
 ],
 "metadata": {
  "colab": {
   "name": "T6_SYS_ARGPARSE.ipynb",
   "provenance": []
  },
  "kernelspec": {
   "display_name": "Python 3",
   "language": "python",
   "name": "python3"
  },
  "language_info": {
   "codemirror_mode": {
    "name": "ipython",
    "version": 3
   },
   "file_extension": ".py",
   "mimetype": "text/x-python",
   "name": "python",
   "nbconvert_exporter": "python",
   "pygments_lexer": "ipython3",
   "version": "3.6.8"
  }
 },
 "nbformat": 4,
 "nbformat_minor": 1
}
