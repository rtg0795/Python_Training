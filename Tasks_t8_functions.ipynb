{
 "cells": [
  {
   "cell_type": "markdown",
   "metadata": {},
   "source": [
    "lambda, map, filter, reduce\n",
    "https://www.youtube.com/watch?v=cKlnR-CB3tk\n",
    "\n",
    "generators:\n",
    "https://www.youtube.com/watch?v=mziIj4M_uwk"
   ]
  },
  {
   "cell_type": "raw",
   "metadata": {},
   "source": [
    "In python both functions and classes are first class objects.\n",
    "They can be manipulated in the same way as built in data types.\n",
    "\n",
    "By definition first calss objects are:\n",
    ". can be created at runtime\n",
    ". can be assigned as variable\n",
    ". ca be passed as an argument to function\n",
    ". can be returned as result of function"
   ]
  },
  {
   "cell_type": "raw",
   "metadata": {},
   "source": [
    "Higher order functions:\n",
    "    functions which take other functions as arguments are called higher order functions.\n",
    "    filter and map fucntion are bulitin higher order functions\n"
   ]
  },
  {
   "cell_type": "markdown",
   "metadata": {},
   "source": [
    "don't know with how many arguments create a function or\n",
    "wanna pass any number of argumnets to a function...\n",
    "\n",
    "checkout https://www.geeksforgeeks.org/args-kwargs-python/\n",
    "\n",
    "*args -- used to pass n number of non keyword argumnets\n",
    "\n",
    "**kwargs -- used to pass arguments in dictinoary format.."
   ]
  },
  {
   "cell_type": "code",
   "execution_count": 30,
   "metadata": {},
   "outputs": [
    {
     "data": {
      "text/plain": [
       "7"
      ]
     },
     "execution_count": 30,
     "metadata": {},
     "output_type": "execute_result"
    }
   ],
   "source": [
    "# ther is one more way to create argumnets as default argumnets\n",
    "# here c is default argument\n",
    "\n",
    "def sum_fun(a,b, c=3):\n",
    "    return a+b+c\n",
    "\n",
    "sum_fun(1,2)\n",
    "sum_fun(1,2,4)\n",
    "\n"
   ]
  },
  {
   "cell_type": "code",
   "execution_count": 0,
   "metadata": {},
   "outputs": [],
   "source": [
    "# 1. create new program same as argparse_search_folder.py using generators\n",
    "# task8.py\n",
    "# you can search in only one directory\n",
    "# only use os module\n",
    "# when run the script it shoulh prompt to user to enter folder\n",
    "# do it in pycharm set debugger and see what's happening\n",
    "# at the end of script convert generator to list and print it\n"
   ]
  },
  {
   "cell_type": "code",
   "execution_count": 88,
   "metadata": {},
   "outputs": [
    {
     "data": {
      "text/plain": [
       "11"
      ]
     },
     "execution_count": 88,
     "metadata": {},
     "output_type": "execute_result"
    }
   ],
   "source": [
    "# Lambda functions can have any number of arguments but only one expression.\n",
    "#2.\n",
    "\n",
    "l1 = [1,2,3]\n",
    "l2 =[3,4,5]\n",
    "# expected output: [3,8,15] dot product of l1 and l2\n",
    "list(map(lambda x,y: x * y, l1, l2))\n",
    "\n",
    "# create to lamda function to find sum of unknown  number of arguments (using *args)\n",
    "def add_args(*args):\n",
    "    return reduce(lambda x,y: x + y, args)\n",
    "add_args(1,2,3,2,1,9)\n",
    "\n",
    "# create to lamda function to find sum of unknown  number of keyword arguments (using **kwargs)\n",
    "kwargs = {'apple': 1, 'banana': 2, 'orange': 8}\n",
    "def add_kwargs(**kwargs):\n",
    "    return reduce(lambda x,y: x+y, [value for key, value in kwargs.items()] )\n",
    "    \n",
    "add_kwargs(**kwargs)"
   ]
  },
  {
   "cell_type": "code",
   "execution_count": 34,
   "metadata": {},
   "outputs": [
    {
     "data": {
      "text/plain": [
       "['3', '1', '6', '1', '2']"
      ]
     },
     "execution_count": 34,
     "metadata": {},
     "output_type": "execute_result"
    }
   ],
   "source": [
    "# 3. create a list convert each item in a list to string using map function\n",
    "list(map(lambda x: str(x), [3, 1, 6, 1, 2]))"
   ]
  },
  {
   "cell_type": "code",
   "execution_count": 73,
   "metadata": {},
   "outputs": [
    {
     "data": {
      "text/plain": [
       "[456, 234, 5436, 6531, 561, 45361]"
      ]
     },
     "execution_count": 73,
     "metadata": {},
     "output_type": "execute_result"
    }
   ],
   "source": [
    "# 4. using filter function find the elements whose sum greater than 8 \n",
    "# ex: elemnt 123 :sum 6\n",
    "list(filter(lambda x: sum(map(int, str(x))) > 8, [123,456,234,5436,6531,561,45361]))"
   ]
  },
  {
   "cell_type": "code",
   "execution_count": 72,
   "metadata": {},
   "outputs": [
    {
     "name": "stdout",
     "output_type": "stream",
     "text": [
      "120\n"
     ]
    }
   ],
   "source": [
    "# 5. find the product of elements using reduce function\n",
    "from functools import reduce\n",
    "\n",
    "print(reduce(lambda x,y: x*y, [1,2,3,4,5]))"
   ]
  }
 ],
 "metadata": {
  "kernelspec": {
   "display_name": "Python 3",
   "language": "python",
   "name": "python3"
  },
  "language_info": {
   "codemirror_mode": {
    "name": "ipython",
    "version": 3
   },
   "file_extension": ".py",
   "mimetype": "text/x-python",
   "name": "python",
   "nbconvert_exporter": "python",
   "pygments_lexer": "ipython3",
   "version": "3.6.8"
  }
 },
 "nbformat": 4,
 "nbformat_minor": 1
}
