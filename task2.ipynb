{
 "cells": [
  {
   "cell_type": "code",
   "execution_count": 1,
   "metadata": {
    "colab": {},
    "colab_type": "code",
    "id": "B8mtO0GYITUX"
   },
   "outputs": [],
   "source": [
    "# interview questions has to be audio files you can record send through\n",
    "# what's app also +1 3127853304 if it's convenient\n",
    "\n"
   ]
  },
  {
   "cell_type": "code",
   "execution_count": 2,
   "metadata": {
    "colab": {},
    "colab_type": "code",
    "id": "CVoXcja4Iclk"
   },
   "outputs": [
    {
     "name": "stdout",
     "output_type": "stream",
     "text": [
      "Hello Eric. You are 74\n"
     ]
    }
   ],
   "source": [
    "# read about using f strings practise using f instead of format\n",
    "#f\"{2 * 37}\"\n",
    "name = 'Eric'\n",
    "age = 74\n",
    "print(f'Hello {name}. You are {age}')"
   ]
  },
  {
   "cell_type": "code",
   "execution_count": 3,
   "metadata": {
    "colab": {},
    "colab_type": "code",
    "id": "op0A-r_MIig4"
   },
   "outputs": [
    {
     "name": "stdout",
     "output_type": "stream",
     "text": [
      "[1, 10, 4, 9]\n",
      "[21, 3, 5, 6]\n",
      "[8, 2]\n",
      "[1, 2, 3, 4, 5, 6, 8, 9, 10, 21]\n",
      "[1, 2, 3, 4, 5, 6, 8, 9, 10, 21]\n"
     ]
    }
   ],
   "source": [
    "#using comprehension is very good\n",
    "# try also using &, |, - operators , ex: list(set(x)-set(y)) where x and y are lists\n",
    "#1. create two list find intersection, union and differrence using set and above operators\n",
    "lst_1 = [4, 3, 21, 9, 10, 5, 1, 6]\n",
    "lst_2 = [8, 1, 2, 4, 10, 2, 9, 8]\n",
    "# intersection\n",
    "print(list(set(lst_1) & set(lst_2)))\n",
    "# difference\n",
    "print(list(set(lst_1) - set(lst_2)))\n",
    "print(list(set(lst_2) - set(lst_1)))\n",
    "# Union\n",
    "print(list(set(lst_1) | set(lst_2)))\n",
    "print(list(set(lst_1 + lst_2)))"
   ]
  },
  {
   "cell_type": "code",
   "execution_count": 4,
   "metadata": {
    "colab": {},
    "colab_type": "code",
    "id": "JZU0ksJZIkup"
   },
   "outputs": [
    {
     "name": "stdout",
     "output_type": "stream",
     "text": [
      "1, 2, 3, 4, 5, 6, 7, 8, 9, 10\n",
      "1\n",
      "2\n",
      "3\n",
      "4\n",
      "5\n",
      "6\n",
      "7\n",
      "8\n",
      "9\n",
      "10\n",
      "1\t2\t3\t4\t5\t6\t7\t8\t9\t10\n",
      "1; 2; 3; 4; 5; 6; 7; 8; 9; 10\n"
     ]
    }
   ],
   "source": [
    "\n",
    "#2.explore the following the things, a is list\n",
    "a = [1, 2, 3, 4, 5, 6, 7 , 8, 9, 10]\n",
    "#print(*a, sep = \", \")\n",
    "print(*a, sep = ', ')\n",
    "#print(*a, sep = \"\\n\")\n",
    "print(*a, sep = '\\n')\n",
    "# print the given list with tab separator\n",
    "print(*a, sep = '\\t')\n",
    "# print the given list with ; separator\n",
    "print(*a, sep = '; ')"
   ]
  },
  {
   "cell_type": "code",
   "execution_count": 5,
   "metadata": {
    "colab": {},
    "colab_type": "code",
    "id": "0gVCMWIrImn7"
   },
   "outputs": [
    {
     "name": "stdout",
     "output_type": "stream",
     "text": [
      "[1, 5, 2, [3, 4, 7]]\n",
      "[3, 4, 7, 1, 5, 2, [...]]\n"
     ]
    }
   ],
   "source": [
    "\n",
    "#3.take two lists each with 3 values and find the difference between extend and append methods\n",
    "lst_1 = [1, 5, 2]\n",
    "lst_2 = [3, 4, 7]\n",
    "lst_1.append(lst_2)\n",
    "print(lst_1)\n",
    "lst_2.extend(lst_1)\n",
    "print(lst_2)\n",
    "# So append function appends the object at the end of given list\n",
    "# extend function appends the elements from the iterable list"
   ]
  },
  {
   "cell_type": "code",
   "execution_count": 6,
   "metadata": {
    "colab": {},
    "colab_type": "code",
    "id": "knqmY30eIoa_"
   },
   "outputs": [
    {
     "name": "stdout",
     "output_type": "stream",
     "text": [
      "{(2, 'two'), (1, 'one'), (3, 'three')}\n",
      "{('three', 3), ('two', 2), ('one', 1)}\n"
     ]
    }
   ],
   "source": [
    "# 4. numberList = [1, 2, 3], strList = ['one', 'two', 'three']\n",
    "numberList = [1, 2, 3]\n",
    "strList = ['one', 'two', 'three']\n",
    "# expected output using zip method {(2, 'two'), (3, 'three'), (1, 'one')}\n",
    "result = zip(numberList, strList)\n",
    "resultSet = set(result)\n",
    "print(resultSet)\n",
    "result = zip(strList, numberList)\n",
    "resultSet = set(result)\n",
    "print(resultSet)\n",
    "# expecting more from this area to practice"
   ]
  },
  {
   "cell_type": "code",
   "execution_count": 7,
   "metadata": {
    "colab": {},
    "colab_type": "code",
    "id": "0fGYdOaiIqT3"
   },
   "outputs": [
    {
     "name": "stdout",
     "output_type": "stream",
     "text": [
      "[7, 6, 5, 4, 1]\n"
     ]
    }
   ],
   "source": [
    "\n",
    "#5. x =[1,4,5,6,7]\n",
    "x = [1, 4, 5, 6, 7]\n",
    "# expected output: [7,6,5,4,1]\n",
    "# this can be done with reverse, sort and slicing. here I am using reverse\n",
    "x.reverse()\n",
    "print(x)"
   ]
  },
  {
   "cell_type": "code",
   "execution_count": 8,
   "metadata": {
    "colab": {},
    "colab_type": "code",
    "id": "AFPt4Re9IsKE"
   },
   "outputs": [
    {
     "name": "stdout",
     "output_type": "stream",
     "text": [
      "[1, 3, 4, 5, 9]\n"
     ]
    }
   ],
   "source": [
    "#6. when sort is applied on a list does it modify the original list?\n",
    "x = [3, 1, 9, 4, 5]\n",
    "x.sort()\n",
    "print(x)\n",
    "# Yes. it sorts the original list"
   ]
  },
  {
   "cell_type": "code",
   "execution_count": 9,
   "metadata": {
    "colab": {},
    "colab_type": "code",
    "id": "C9IoIM11IuLm"
   },
   "outputs": [
    {
     "name": "stdout",
     "output_type": "stream",
     "text": [
      "[1, 3, 4, 5, 9]\n",
      "[3, 1, 9, 4, 5]\n"
     ]
    }
   ],
   "source": [
    "#7. when sorted is applied on a list does it modify the original list?\n",
    "x = [3, 1, 9, 4, 5]\n",
    "print(sorted(x))\n",
    "print(x)\n",
    "# No. Sorted function doesn't change the original list passed"
   ]
  },
  {
   "cell_type": "code",
   "execution_count": 10,
   "metadata": {
    "colab": {},
    "colab_type": "code",
    "id": "kGvtOKQ6IwMM"
   },
   "outputs": [],
   "source": [
    "#8. what would be the output, if it's error what type of error it is?\n",
    "# a = (\"apples\", \"bananas\", \"oranges\")\n",
    "# a[0] = \"berries\"\n",
    "# its a type error for variable 'a'. Here we declared 'a' as tuple and we are trying to change value at index 0 which is not possible for tuple as they are immutable\n",
    "# to assign values in this case, we should use lists"
   ]
  },
  {
   "cell_type": "code",
   "execution_count": 11,
   "metadata": {
    "colab": {},
    "colab_type": "code",
    "id": "D8OqOtfHIx_l"
   },
   "outputs": [
    {
     "name": "stdout",
     "output_type": "stream",
     "text": [
      "[1, 5, 9, 14]\n",
      "[1, 7, 12]\n"
     ]
    }
   ],
   "source": [
    "#9. x=[1,2,3,5,7,8,9,10,12,14,15]\n",
    "x=[1,2,3,5,7,8,9,10,12,14,15]\n",
    "# skip every two items from starting\n",
    "print(x[::3])\n",
    "# skip every three items from starting\n",
    "print(x[::4])\n",
    "# ref: lst[x::y] search google\n",
    "# expecting more from this area to practice"
   ]
  },
  {
   "cell_type": "code",
   "execution_count": 12,
   "metadata": {
    "colab": {},
    "colab_type": "code",
    "id": "6xj3tB_xI0oD"
   },
   "outputs": [],
   "source": [
    "#10. explore headings h1,h2,h3,h4,h5,h6 in html and with python script generate a html file as ouptut\n",
    "# it should have all headings h1,h2,h3,h4,h5,h6 with some data\n",
    "body = '''<html>\n",
    "<head></head>\n",
    "<body>\n",
    "<h1>Biggest of all headings. I am h1</h1>\n",
    "<h2>Bigger than h3 and smaller than h1. I am h2</h2>\n",
    "<h3>Bigger than h4 and smaller than h2. I am h3</h3>\n",
    "<h4>Bigger than h5 and smaller than h3. I am h4</h4>\n",
    "<h5>Bigger than h6 and smaller than h4. I am h5</h5>\n",
    "<h6> Smallest of all heading. I am h6</h6>\n",
    "</body>\n",
    "</html>\n",
    "'''\n",
    "with open('tags.html', 'w') as f:\n",
    "    f.write(body)\n",
    "f.close()\n",
    "\n",
    "# I want to know what difference does it make with below code \n",
    "# with open('tags.html', 'w') as f:\n",
    "#     f.write(body)\n",
    "# f.close()"
   ]
  },
  {
   "cell_type": "code",
   "execution_count": 14,
   "metadata": {
    "colab": {},
    "colab_type": "code",
    "id": "oJvgidQFI2Ye"
   },
   "outputs": [],
   "source": [
    "# interview question:\n",
    "# explain how Python is a dynamically-typed language?"
   ]
  }
 ],
 "metadata": {
  "colab": {
   "collapsed_sections": [],
   "name": "task2.ipynb",
   "provenance": []
  },
  "kernelspec": {
   "display_name": "Python 3",
   "language": "python",
   "name": "python3"
  },
  "language_info": {
   "codemirror_mode": {
    "name": "ipython",
    "version": 3
   },
   "file_extension": ".py",
   "mimetype": "text/x-python",
   "name": "python",
   "nbconvert_exporter": "python",
   "pygments_lexer": "ipython3",
   "version": "3.6.8"
  }
 },
 "nbformat": 4,
 "nbformat_minor": 1
}
